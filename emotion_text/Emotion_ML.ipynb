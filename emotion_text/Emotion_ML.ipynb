{
  "cells": [
    {
      "cell_type": "markdown",
      "metadata": {
        "id": "nYMjGhWj_iVA"
      },
      "source": [
        "# Оглавление\n",
        "\n",
        "[1. Импорт модуля и загрузка датафрейма](#Импорт-модуля-и-загрузка-датафрейма)\n",
        "<br>[2. Деление на тренировочную, валидационную и тестовую выборки](#Train,-test,-valid)\n",
        "<br>[3. Лемматизция текста](#Лемматизация-текста)\n",
        "<br>[4. Удаление стоп-слов](#Удаление-стоп-слов)\n",
        "<br>[5. Преобразование в TF-IDF вектора](#Преобразование-в-TF-IDF-вектора)\n",
        "<br>[6. Обучение модели логистической регрессии](#Обучение-модели-логистической-регрессии)\n",
        "<br>[7. Запись модели в файл](#Запись-модели-в-файл)\n",
        "<br>[8. Загрузка модели из файла](#Загрузка-модели-из-файла)\n",
        "<br>[9. Предсказание эмоции для заданного текста](#Предсказание-эмоции-для-заданного-текста)"
      ]
    },
    {
      "cell_type": "markdown",
      "metadata": {
        "id": "V_0UCjBg_iVB"
      },
      "source": [
        "### Импорт модуля и загрузка датафрейма"
      ]
    },
    {
      "cell_type": "code",
      "execution_count": 2,
      "metadata": {
        "id": "iymrfPdr_iVB"
      },
      "outputs": [],
      "source": [
        "import pickle\n",
        "from tqdm import tqdm\n",
        "from emotion_text import *"
      ]
    },
    {
      "cell_type": "code",
      "execution_count": 3,
      "metadata": {
        "id": "qfrCmICm_2w6",
        "colab": {
          "base_uri": "https://localhost:8080/"
        },
        "outputId": "d990a85d-8686-4e3f-e621-a1301226c795"
      },
      "outputs": [
        {
          "output_type": "stream",
          "name": "stdout",
          "text": [
            "                                                text  label\n",
            "0  i feel awful about it too because it s my job ...      0\n"
          ]
        }
      ],
      "source": [
        "df = open_file('data.jsonl')"
      ]
    },
    {
      "cell_type": "code",
      "execution_count": 4,
      "metadata": {
        "id": "n2rBpWxz_iVD"
      },
      "outputs": [],
      "source": [
        "#df_sampl = df.head(100).copy()"
      ]
    },
    {
      "cell_type": "markdown",
      "metadata": {
        "id": "Pm4nSIw1_iVD"
      },
      "source": [
        "## Train, test, valid\n",
        "Делим датасет на тренировочную, валидационную и тестовую выборки"
      ]
    },
    {
      "cell_type": "code",
      "execution_count": 5,
      "metadata": {
        "id": "iaw8dF15Lyde"
      },
      "outputs": [],
      "source": [
        "X_train, y_train, X_test, X_val, y_test, y_val = train_test_val(df.text, df.label)"
      ]
    },
    {
      "cell_type": "markdown",
      "metadata": {
        "id": "xC0eUqIy_iVD"
      },
      "source": [
        "## Лемматизация текста"
      ]
    },
    {
      "cell_type": "code",
      "execution_count": 6,
      "metadata": {
        "colab": {
          "base_uri": "https://localhost:8080/"
        },
        "id": "nkK9yPE5Zb53",
        "outputId": "bc21809f-1b70-4791-f14d-e8db987ecbf2"
      },
      "outputs": [
        {
          "output_type": "stream",
          "name": "stderr",
          "text": [
            "Installing mystem to /root/.local/bin/mystem from http://download.cdn.yandex.net/mystem/mystem-3.1-linux-64bit.tar.gz\n"
          ]
        },
        {
          "output_type": "stream",
          "name": "stdout",
          "text": [
            "169233    i once again fail to play it i ll doubtless st...\n",
            "Name: text, dtype: object\n"
          ]
        }
      ],
      "source": [
        "X_train, X_test, X_val = lemmatize_text(X_train, X_test, X_val)"
      ]
    },
    {
      "cell_type": "markdown",
      "metadata": {
        "id": "W9hfVHTl_iVD"
      },
      "source": [
        "## Удаление стоп-слов"
      ]
    },
    {
      "cell_type": "code",
      "execution_count": 7,
      "metadata": {
        "colab": {
          "base_uri": "https://localhost:8080/"
        },
        "id": "bT1Sin6oYYw4",
        "outputId": "e85d7c46-7329-4b64-adf1-2bbcffe735ac"
      },
      "outputs": [
        {
          "output_type": "stream",
          "name": "stdout",
          "text": [
            "169233    fail play doubtless still feel jealous\n",
            "Name: text, dtype: object\n"
          ]
        }
      ],
      "source": [
        "X_train, X_test, X_val = stopwords_text(X_train, X_test, X_val, language = 'english', num_row=1)"
      ]
    },
    {
      "cell_type": "markdown",
      "metadata": {
        "id": "R1jVO6uh_iVE"
      },
      "source": [
        "## Преобразование в TF-IDF вектора"
      ]
    },
    {
      "cell_type": "code",
      "execution_count": 8,
      "metadata": {
        "id": "42q_jo0V-fCu"
      },
      "outputs": [],
      "source": [
        "X_train_tfidf, X_test_tfidf, X_val_tfidf, vectorizer = tf_idf_vec(X_train, X_test, X_val)"
      ]
    },
    {
      "cell_type": "markdown",
      "metadata": {
        "id": "7CUm_fuXiDO4"
      },
      "source": [
        "## Обучение модели логистической регрессии"
      ]
    },
    {
      "cell_type": "code",
      "execution_count": 9,
      "metadata": {
        "id": "-yPLtnh0-8xd",
        "colab": {
          "base_uri": "https://localhost:8080/"
        },
        "outputId": "2e1d5d63-25af-4ac1-d0df-27cf6d3944f2"
      },
      "outputs": [
        {
          "output_type": "stream",
          "name": "stderr",
          "text": [
            "100%|██████████| 49/49 [1:44:37<00:00, 128.11s/it]"
          ]
        },
        {
          "output_type": "stream",
          "name": "stdout",
          "text": [
            "Максимальный f1_score = 0.8999273590179936, полученный при значении С = 0.9 на тестовой выборке\n",
            "Максимальный f1_score = 0.9010047840724188, полученный при значении С = 0.8 на валидационной выборке\n",
            "Максимальный accuracy = 0.8971113936805739, полученный при значении С = 0.9 на тестовой выборке\n",
            "Максимальный accuracy = 0.8982629975288501, полученный при значении С = 0.8 на валидационной выборке\n"
          ]
        },
        {
          "output_type": "stream",
          "name": "stderr",
          "text": [
            "\n"
          ]
        }
      ],
      "source": [
        "for C in tqdm(np.arange(0.1, 5.0, 0.1)):\n",
        "\n",
        "    model_LogisticRegression_L2 = LogisticRegression(class_weight='balanced',\n",
        "                                                     multi_class='multinomial',\n",
        "                                                     max_iter = 1000,\n",
        "                                                     solver='lbfgs',\n",
        "                                                     penalty='l2',\n",
        "                                                     C=C)\n",
        "    learning_model(X_train_tfidf, y_train, X_val_tfidf, y_val, X_test_tfidf, y_test, model_LogisticRegression_L2, C)\n",
        "print_score(max_f1_test, max_f1_valid, max_acc_test, max_acc_valid)"
      ]
    },
    {
      "cell_type": "markdown",
      "metadata": {
        "id": "z3fpI-cm_iVE"
      },
      "source": [
        "## Запись модели в файл"
      ]
    },
    {
      "cell_type": "code",
      "execution_count": 10,
      "metadata": {
        "id": "s03OKH-3_iVE"
      },
      "outputs": [],
      "source": [
        "with open('model.pkl', 'wb') as f:\n",
        "    pickle.dump(model_LogisticRegression_L2, f)"
      ]
    },
    {
      "cell_type": "markdown",
      "metadata": {
        "id": "qCEt8XlV_iVF"
      },
      "source": [
        "## Загрузка модели из файла"
      ]
    },
    {
      "cell_type": "code",
      "execution_count": 11,
      "metadata": {
        "id": "qeLGjjmG_iVF"
      },
      "outputs": [],
      "source": [
        "with open('model.pkl', 'rb') as f:\n",
        "    model = pickle.load(f)"
      ]
    },
    {
      "cell_type": "markdown",
      "metadata": {
        "id": "3YGb82T_pbw0"
      },
      "source": [
        "## Предсказание эмоции для заданного текста"
      ]
    },
    {
      "cell_type": "code",
      "execution_count": 12,
      "metadata": {
        "id": "84gtDeKW_iVF"
      },
      "outputs": [],
      "source": [
        "word = 'my day bad'\n",
        "\n",
        "word_tfidf = vectorizer.transform([word])\n",
        "vanga = model.predict(word_tfidf)"
      ]
    },
    {
      "cell_type": "code",
      "execution_count": 13,
      "metadata": {
        "colab": {
          "base_uri": "https://localhost:8080/"
        },
        "id": "6gDAqRAK_iVF",
        "outputId": "5818e8e8-0bb7-4ee5-c15b-569280ed0802"
      },
      "outputs": [
        {
          "output_type": "stream",
          "name": "stdout",
          "text": [
            "You are sadness, be happy!\n"
          ]
        }
      ],
      "source": [
        "vanga_answers(vanga)"
      ]
    },
    {
      "cell_type": "code",
      "execution_count": 13,
      "metadata": {
        "id": "GqZ0mziB_iVF"
      },
      "outputs": [],
      "source": []
    },
    {
      "cell_type": "code",
      "execution_count": 13,
      "metadata": {
        "id": "5DBH8AsW_iVF"
      },
      "outputs": [],
      "source": [
        "\n",
        "\n",
        "\n"
      ]
    }
  ],
  "metadata": {
    "colab": {
      "provenance": []
    },
    "kernelspec": {
      "display_name": "Python 3",
      "name": "python3"
    },
    "language_info": {
      "codemirror_mode": {
        "name": "ipython",
        "version": 3
      },
      "file_extension": ".py",
      "mimetype": "text/x-python",
      "name": "python",
      "nbconvert_exporter": "python",
      "pygments_lexer": "ipython3",
      "version": "3.10.3"
    }
  },
  "nbformat": 4,
  "nbformat_minor": 0
}